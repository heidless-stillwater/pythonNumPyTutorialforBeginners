{
 "cells": [
  {
   "cell_type": "markdown",
   "id": "5d390d89-0a92-49c7-bab9-55a19e3cfde3",
   "metadata": {},
   "source": [
    "# load numpy"
   ]
  },
  {
   "cell_type": "code",
   "execution_count": null,
   "id": "68b8de33-6175-4e2e-b3a9-ca226f4ab51a",
   "metadata": {},
   "outputs": [],
   "source": [
    "import numpy as np\n",
    "import sys"
   ]
  },
  {
   "cell_type": "markdown",
   "id": "9d38e876-24a6-4ae4-8aa1-963547e93df5",
   "metadata": {},
   "source": [
    "# the basics"
   ]
  },
  {
   "cell_type": "code",
   "execution_count": null,
   "id": "2e697e0f-8ece-4805-bb2a-f0bce068cac2",
   "metadata": {},
   "outputs": [],
   "source": []
  }
 ],
 "metadata": {
  "kernelspec": {
   "display_name": "Python 3 (ipykernel)",
   "language": "python",
   "name": "python3"
  },
  "language_info": {
   "name": ""
  }
 },
 "nbformat": 4,
 "nbformat_minor": 5
}
