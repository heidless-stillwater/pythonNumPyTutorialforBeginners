{
 "cells": [
  {
   "cell_type": "code",
   "execution_count": 4,
   "id": "93e16018-da98-4dd4-9ef5-2c456292cc19",
   "metadata": {},
   "outputs": [],
   "source": [
    "import os\n",
    "import pandas as pd\n",
    "import numpy as np\n",
    "import streamlit as st \n",
    "\n",
    "import sklearn\n",
    "from sklearn.utils import shuffle\n",
    "from sklearn.neighbors import KNeighborsClassifier \n",
    "from sklearn import linear_model, preprocessing\n",
    "\n",
    "import matplotlib.pyplot as pyplot\n",
    "import pickle\n",
    "from matplotlib import style\n",
    "\n",
    "from icecream import ic\n",
    "\n",
    "# configure logging\n",
    "import logging\n"
   ]
  },
  {
   "cell_type": "code",
   "execution_count": 5,
   "id": "effcadfd-8e40-4aca-b286-ce780b56c036",
   "metadata": {},
   "outputs": [],
   "source": [
    "\n",
    "file_root = 'k-means'\n",
    "\n",
    "# configure logging\n",
    "logger = logging.getLogger(__name__)\n",
    "logging.basicConfig(\n",
    "    filename=f\"./logs/{file_root}.log\",\n",
    "    format='%(asctime)s %(levelname)-8s %(message)s',\n",
    "    level=logging.INFO,\n",
    "    datefmt='%Y-%m-%d %H:%M:%S')\n",
    "    \n",
    "def log_this(arr, msg):\n",
    "    # logger.info(f\"in {log_this.__name__}\")\n",
    "    # arr = np.arange(0,20)\n",
    "    # msg = \"TEST MSG\"\n",
    "    logger.info(f\"{msg}: {arr}\")\n",
    "    # logger.info(f\"arr.shape: {arr.shape}\")  \n",
    "    "
   ]
  },
  {
   "cell_type": "code",
   "execution_count": 7,
   "id": "b7e8b936-bcea-46ba-ad94-b02c5835e4ca",
   "metadata": {},
   "outputs": [
    {
     "data": {
      "text/html": [
       "<div>\n",
       "<style scoped>\n",
       "    .dataframe tbody tr th:only-of-type {\n",
       "        vertical-align: middle;\n",
       "    }\n",
       "\n",
       "    .dataframe tbody tr th {\n",
       "        vertical-align: top;\n",
       "    }\n",
       "\n",
       "    .dataframe thead th {\n",
       "        text-align: right;\n",
       "    }\n",
       "</style>\n",
       "<table border=\"1\" class=\"dataframe\">\n",
       "  <thead>\n",
       "    <tr style=\"text-align: right;\">\n",
       "      <th></th>\n",
       "      <th>buying</th>\n",
       "      <th>maint</th>\n",
       "      <th>door</th>\n",
       "      <th>persons</th>\n",
       "      <th>lug_boot</th>\n",
       "      <th>safety</th>\n",
       "      <th>class</th>\n",
       "    </tr>\n",
       "  </thead>\n",
       "  <tbody>\n",
       "    <tr>\n",
       "      <th>0</th>\n",
       "      <td>vhigh</td>\n",
       "      <td>vhigh</td>\n",
       "      <td>2</td>\n",
       "      <td>2</td>\n",
       "      <td>small</td>\n",
       "      <td>low</td>\n",
       "      <td>unacc</td>\n",
       "    </tr>\n",
       "    <tr>\n",
       "      <th>1</th>\n",
       "      <td>vhigh</td>\n",
       "      <td>vhigh</td>\n",
       "      <td>2</td>\n",
       "      <td>2</td>\n",
       "      <td>small</td>\n",
       "      <td>med</td>\n",
       "      <td>unacc</td>\n",
       "    </tr>\n",
       "    <tr>\n",
       "      <th>2</th>\n",
       "      <td>vhigh</td>\n",
       "      <td>vhigh</td>\n",
       "      <td>2</td>\n",
       "      <td>2</td>\n",
       "      <td>small</td>\n",
       "      <td>high</td>\n",
       "      <td>unacc</td>\n",
       "    </tr>\n",
       "    <tr>\n",
       "      <th>3</th>\n",
       "      <td>vhigh</td>\n",
       "      <td>vhigh</td>\n",
       "      <td>2</td>\n",
       "      <td>2</td>\n",
       "      <td>med</td>\n",
       "      <td>low</td>\n",
       "      <td>unacc</td>\n",
       "    </tr>\n",
       "    <tr>\n",
       "      <th>4</th>\n",
       "      <td>vhigh</td>\n",
       "      <td>vhigh</td>\n",
       "      <td>2</td>\n",
       "      <td>2</td>\n",
       "      <td>med</td>\n",
       "      <td>med</td>\n",
       "      <td>unacc</td>\n",
       "    </tr>\n",
       "  </tbody>\n",
       "</table>\n",
       "</div>"
      ],
      "text/plain": [
       "  buying  maint door persons lug_boot safety  class\n",
       "0  vhigh  vhigh    2       2    small    low  unacc\n",
       "1  vhigh  vhigh    2       2    small    med  unacc\n",
       "2  vhigh  vhigh    2       2    small   high  unacc\n",
       "3  vhigh  vhigh    2       2      med    low  unacc\n",
       "4  vhigh  vhigh    2       2      med    med  unacc"
      ]
     },
     "execution_count": 7,
     "metadata": {},
     "output_type": "execute_result"
    }
   ],
   "source": [
    "data = pd.read_csv((\"data/CarDataSet/car.data\"))\n",
    "\n",
    "data.head()"
   ]
  },
  {
   "cell_type": "code",
   "execution_count": 8,
   "id": "53bbc3cc-d522-487e-93d3-82c20e3b1c37",
   "metadata": {},
   "outputs": [],
   "source": [
    "# Get column names\n",
    "col_names = data.columns\n",
    "log_this(col_names, \"col_names\")"
   ]
  },
  {
   "cell_type": "code",
   "execution_count": 9,
   "id": "ee557086-9687-4ec1-9de5-cbfd4116e40c",
   "metadata": {},
   "outputs": [
    {
     "data": {
      "text/plain": [
       "Index(['buying', 'maint', 'door', 'persons', 'lug_boot', 'safety', 'class'], dtype='object')"
      ]
     },
     "execution_count": 9,
     "metadata": {},
     "output_type": "execute_result"
    }
   ],
   "source": [
    "col_names"
   ]
  },
  {
   "cell_type": "code",
   "execution_count": 10,
   "id": "81234ee6-5e16-421a-8b7c-4ec936500dd9",
   "metadata": {},
   "outputs": [],
   "source": [
    "# encode text labels into integer values\n",
    "le = preprocessing.LabelEncoder()\n",
    "\n",
    "buying = le.fit_transform(list(data[\"buying\"]))\n",
    "# log_this(buying, \"buying\")\n",
    "# st.subheader(\"buying\")\n",
    "# st.write(f\"buying: {buying}\")\n",
    "\n",
    "maint = le.fit_transform(list(data[\"maint\"]))\n",
    "# log_this(maint, \"maint\")\n",
    "# st.subheader(\"maint\")\n",
    "# st.write(f\"maint: {maint}\")\n",
    "\n",
    "door = le.fit_transform(list(data[\"door\"]))\n",
    "# log_this(door, \"door\")\n",
    "# st.subheader(\"door\")\n",
    "# st.write(f\"door: {door}\")\n",
    "\n",
    "persons = le.fit_transform(list(data[\"persons\"]))\n",
    "# log_this(persons, \"persons\")\n",
    "\n",
    "safety = le.fit_transform(list(data[\"safety\"]))\n",
    "# log_this(safety, \"safety\")\n",
    "\n",
    "lug_boot = le.fit_transform(list(data[\"lug_boot\"]))\n",
    "# log_this(lug_boot, \"lug_boot\")\n",
    "\n",
    "cls = le.fit_transform(list(data[\"class\"]))\n",
    "# log_this(cls, \"class\")\n"
   ]
  },
  {
   "cell_type": "code",
   "execution_count": 12,
   "id": "1bc0fb31-6120-475f-9f07-ece9b1ffa576",
   "metadata": {},
   "outputs": [],
   "source": [
    "predict = \"class\""
   ]
  },
  {
   "cell_type": "code",
   "execution_count": 13,
   "id": "ffa5982e-9016-4e70-9f18-28663e2d7883",
   "metadata": {},
   "outputs": [],
   "source": [
    "# features\n",
    "X = list(zip(buying, maint, door, persons, lug_boot, safety, cls))"
   ]
  },
  {
   "cell_type": "code",
   "execution_count": 14,
   "id": "c62aeeea-ad31-4989-86fb-42bed64a5b11",
   "metadata": {},
   "outputs": [],
   "source": [
    "# labels\n",
    "y = list(cls)"
   ]
  },
  {
   "cell_type": "code",
   "execution_count": 15,
   "id": "4cbaf40a-17ee-47dc-a671-5670b7297c8e",
   "metadata": {},
   "outputs": [
    {
     "data": {
      "text/plain": [
       "1.0"
      ]
     },
     "execution_count": 15,
     "metadata": {},
     "output_type": "execute_result"
    }
   ],
   "source": [
    "x_train, x_test, y_train, y_test = sklearn.model_selection.train_test_split(X, y, test_size = 0.1)\n",
    "\n",
    "model = KNeighborsClassifier(n_neighbors=5)\n",
    "\n",
    "model.fit(x_train, y_train)\n",
    "acc = model.score(x_test, y_test)\n",
    "\n",
    "acc\n"
   ]
  },
  {
   "cell_type": "code",
   "execution_count": 16,
   "id": "879b385f-35ad-45d6-bd2f-b0ed28a863e4",
   "metadata": {},
   "outputs": [
    {
     "data": {
      "text/plain": [
       "['good', 'acc', 'unacc', 'vgood']"
      ]
     },
     "execution_count": 16,
     "metadata": {},
     "output_type": "execute_result"
    }
   ],
   "source": [
    "names = list(set(data[\"class\"]))\n",
    "names"
   ]
  },
  {
   "cell_type": "code",
   "execution_count": 17,
   "id": "5d711d70-08e1-42f8-9c0c-a2a6bbea7c0e",
   "metadata": {},
   "outputs": [
    {
     "data": {
      "text/plain": [
       "array([2, 2, 2, 2, 2, 3, 0, 2, 2, 2, 2, 2, 2, 2, 2, 2, 2, 2, 2, 0, 2, 2,\n",
       "       2, 0, 2, 2, 2, 2, 2, 2, 3, 2, 1, 2, 0, 0, 2, 2, 2, 2, 2, 2, 2, 2,\n",
       "       0, 2, 2, 2, 2, 2, 2, 2, 2, 2, 3, 2, 2, 2, 2, 0, 2, 1, 2, 0, 2, 2,\n",
       "       2, 2, 1, 2, 0, 2, 3, 2, 2, 2, 1, 0, 2, 2, 2, 2, 2, 0, 2, 3, 0, 2,\n",
       "       2, 3, 2, 2, 0, 0, 2, 2, 2, 2, 2, 0, 0, 2, 2, 2, 2, 0, 2, 2, 2, 0,\n",
       "       2, 2, 0, 2, 2, 2, 2, 2, 0, 2, 2, 2, 0, 2, 0, 2, 2, 0, 2, 2, 2, 2,\n",
       "       2, 2, 2, 2, 2, 2, 0, 2, 0, 2, 1, 3, 2, 2, 2, 2, 2, 2, 2, 1, 0, 2,\n",
       "       2, 0, 2, 2, 1, 2, 2, 2, 2, 2, 2, 2, 2, 2, 2, 2, 2, 2, 2])"
      ]
     },
     "execution_count": 17,
     "metadata": {},
     "output_type": "execute_result"
    }
   ],
   "source": [
    "predicted = model.predict(x_test) \n",
    "predicted"
   ]
  },
  {
   "cell_type": "code",
   "execution_count": 28,
   "id": "d1db5152-829e-4f93-b2b5-74ce70c6bef5",
   "metadata": {},
   "outputs": [
    {
     "name": "stdout",
     "output_type": "stream",
     "text": [
      "res_dict: {'class': 1, 'lug_boot': 0, 'safety': 2, 'persons': 0, 'door': 2, 'maint': 1, 'buying': 2}\n"
     ]
    }
   ],
   "source": [
    "attribute_lst = [\"class\", \"lug_boot\", \"safety\", \"persons\", \"door\", \"maint\", \"buying\"]\n",
    "\n",
    "sample_data = x_test[0]\n",
    "sample_data\n",
    "\n",
    "res_dict = {}\n",
    "ind = 0\n",
    "for attr in attribute_lst:\n",
    "    res_dict.update({attr: sample_data[ind]})\n",
    "    ind += 1\n",
    "\n",
    "print(f\"res_dict: {res_dict}\")\n"
   ]
  },
  {
   "cell_type": "code",
   "execution_count": null,
   "id": "02467311-a0a8-45a1-b654-a631f82fe8b6",
   "metadata": {},
   "outputs": [],
   "source": []
  }
 ],
 "metadata": {
  "kernelspec": {
   "display_name": "Python 3 (ipykernel)",
   "language": "python",
   "name": "python3"
  },
  "language_info": {
   "codemirror_mode": {
    "name": "ipython",
    "version": 3
   },
   "file_extension": ".py",
   "mimetype": "text/x-python",
   "name": "python",
   "nbconvert_exporter": "python",
   "pygments_lexer": "ipython3",
   "version": "3.9.20"
  }
 },
 "nbformat": 4,
 "nbformat_minor": 5
}
